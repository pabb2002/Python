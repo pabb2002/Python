{
 "cells": [
  {
   "cell_type": "code",
   "execution_count": 40,
   "id": "7abb4f27",
   "metadata": {},
   "outputs": [
    {
     "data": {
      "image/png": "[encoded data removed]",
      "text/latex": [
       "$\\displaystyle - 5 f{\\left(x \\right)} + \\frac{d^{2}}{d x^{2}} f{\\left(x \\right)} = 0$"
      ],
      "text/plain": [
       "            2          \n",
       "           d           \n",
       "-5⋅f(x) + ───(f(x)) = 0\n",
       "            2          \n",
       "          dx           "
      ]
     },
     "metadata": {},
     "output_type": "display_data"
    },
    {
     "data": {
      "image/png": "[encoded data removed]",
      "text/latex": [
       "$\\displaystyle f{\\left(x \\right)} = C_{1} e^{- \\sqrt{5} x} + C_{2} e^{\\sqrt{5} x}$"
      ],
      "text/plain": [
       "           -√5⋅x       √5⋅x\n",
       "f(x) = C₁⋅ℯ      + C₂⋅ℯ    "
      ]
     },
     "metadata": {},
     "output_type": "display_data"
    }
   ],
   "source": [
    "from sympy.interactive import printing\n",
    "printing.init_printing(use_latex=True)\n",
    "from sympy import *\n",
    "import sympy as sp\n",
    "import matplotlib.pyplot as plt\n",
    "\n",
    "plt.rcParams[\"font.family\"]=\"Times New Roman\"\n",
    "\n",
    "x=sp.symbols('x')\n",
    "f=sp.Function('f')(x)\n",
    "\n",
    "diffeq=Eq(f.diff(x,x)-5*f,0)\n",
    "display(diffeq)\n",
    "sol=dsolve(diffeq,f)\n",
    "display(sol)"
   ]
  },
  {
   "cell_type": "code",
   "execution_count": 15,
   "id": "7d485939",
   "metadata": {},
   "outputs": [
    {
     "name": "stdout",
     "output_type": "stream",
     "text": [
      "Enter the geometry ('r' for rectangular slabs, 'c' for cylindrical tube): r\n",
      "If the problem involves τ=0 and a known velocity as the two boundary conditions, type '1'. If the problem involves two known velocities as the boundary conditions, type '2'.1\n"
     ]
    }
   ],
   "source": [
    "#USER INPUT FOR TYPE OF PROBLEM\n",
    "\n",
    "#g stands for geometry, bcs stands for boundary conditions\n",
    "g = input(\"Enter the geometry ('r' for rectangular slabs, 'c' for cylindrical tube): \")\n",
    "bcs = input(\"If the problem involves τ=0 and a known velocity as the two boundary conditions, type '1'. If the problem involves two known velocities as the boundary conditions, type '2'.\")"
   ]
  },
  {
   "cell_type": "code",
   "execution_count": 55,
   "id": "4257cd6b",
   "metadata": {},
   "outputs": [
    {
     "name": "stdout",
     "output_type": "stream",
     "text": [
      "Shear stress differential equation\n"
     ]
    },
    {
     "data": {
      "image/png": "[encoded data removed]",
      "text/latex": [
       "$\\displaystyle \\frac{d}{d x} τ{\\left(x \\right)} = \\frac{Pl - Po}{L}$"
      ],
      "text/plain": [
       "d          Pl - Po\n",
       "──(τ(x)) = ───────\n",
       "dx            L   "
      ]
     },
     "metadata": {},
     "output_type": "display_data"
    },
    {
     "name": "stdout",
     "output_type": "stream",
     "text": [
      "General solution for shear stress:\n"
     ]
    },
    {
     "data": {
      "image/png": "[encoded data removed]",
      "text/latex": [
       "$\\displaystyle τ{\\left(x \\right)} = C_{1} + \\frac{x \\left(Pl - Po\\right)}{L}$"
      ],
      "text/plain": [
       "            x⋅(Pl - Po)\n",
       "τ(x) = C₁ + ───────────\n",
       "                 L     "
      ]
     },
     "metadata": {},
     "output_type": "display_data"
    },
    {
     "name": "stdout",
     "output_type": "stream",
     "text": [
      "Particular solution for shear stress using given boundary condition:\n"
     ]
    },
    {
     "data": {
      "image/png": "[encoded data removed]",
      "text/latex": [
       "$\\displaystyle τ{\\left(x \\right)} = \\frac{x \\left(Pl - Po\\right)}{L} + \\frac{- 5 Pl + 5 Po}{L}$"
      ],
      "text/plain": [
       "       x⋅(Pl - Po)   -5⋅Pl + 5⋅Po\n",
       "τ(x) = ─────────── + ────────────\n",
       "            L             L      "
      ]
     },
     "metadata": {},
     "output_type": "display_data"
    },
    {
     "name": "stdout",
     "output_type": "stream",
     "text": [
      "Shear stress specifically for the given pressures and length:\n"
     ]
    },
    {
     "data": {
      "image/png": "[encoded data removed]",
      "text/latex": [
       "$\\displaystyle τ{\\left(x \\right)} = \\frac{5}{2} - \\frac{x}{2}$"
      ],
      "text/plain": [
       "       5   x\n",
       "τ(x) = ─ - ─\n",
       "       2   2"
      ]
     },
     "metadata": {},
     "output_type": "display_data"
    },
    {
     "name": "stdout",
     "output_type": "stream",
     "text": [
      "\n",
      "\n",
      "Velocity differential equation, using particular solution for shear stress and Newton's Law of Viscosity:\n"
     ]
    },
    {
     "data": {
      "image/png": "[encoded data removed]",
      "text/latex": [
       "$\\displaystyle \\frac{d}{d x} V{\\left(x \\right)} = - \\frac{\\frac{x \\left(Pl - Po\\right)}{L} + \\frac{- 5 Pl + 5 Po}{L}}{µ}$"
      ],
      "text/plain": [
       "            ⎛x⋅(Pl - Po)   -5⋅Pl + 5⋅Po⎞ \n",
       "           -⎜─────────── + ────────────⎟ \n",
       "d           ⎝     L             L      ⎠ \n",
       "──(V(x)) = ──────────────────────────────\n",
       "dx                       µ               "
      ]
     },
     "metadata": {},
     "output_type": "display_data"
    },
    {
     "name": "stdout",
     "output_type": "stream",
     "text": [
      "General solution for velocity profile:\n"
     ]
    },
    {
     "data": {
      "image/png": "[encoded data removed]",
      "text/latex": [
       "$\\displaystyle V{\\left(x \\right)} = C_{1} - \\frac{x \\left(Pl - Po\\right) \\left(\\frac{x}{2} - 5\\right)}{L µ}$"
      ],
      "text/plain": [
       "                        ⎛x    ⎞\n",
       "            x⋅(Pl - Po)⋅⎜─ - 5⎟\n",
       "                        ⎝2    ⎠\n",
       "V(x) = C₁ - ───────────────────\n",
       "                    L⋅µ        "
      ]
     },
     "metadata": {},
     "output_type": "display_data"
    },
    {
     "name": "stdout",
     "output_type": "stream",
     "text": [
      "Particular solution for velocity profile:\n"
     ]
    },
    {
     "data": {
      "image/png": "[encoded data removed]",
      "text/latex": [
       "$\\displaystyle V{\\left(x \\right)} = - \\frac{x \\left(Pl - Po\\right) \\left(\\frac{x}{2} - 5\\right)}{L µ} + \\frac{- 8 Pl + 8 Po}{L µ}$"
      ],
      "text/plain": [
       "                     ⎛x    ⎞               \n",
       "         x⋅(Pl - Po)⋅⎜─ - 5⎟               \n",
       "                     ⎝2    ⎠   -8⋅Pl + 8⋅Po\n",
       "V(x) = - ─────────────────── + ────────────\n",
       "                 L⋅µ               L⋅µ     "
      ]
     },
     "metadata": {},
     "output_type": "display_data"
    },
    {
     "name": "stdout",
     "output_type": "stream",
     "text": [
      "Velocity profile specifically for the given pressures, length, and viscosity:\n"
     ]
    },
    {
     "data": {
      "image/png": "[encoded data removed]",
      "text/latex": [
       "$\\displaystyle V{\\left(x \\right)} = \\frac{x \\left(\\frac{x}{2} - 5\\right)}{4} + 2$"
      ],
      "text/plain": [
       "         ⎛x    ⎞    \n",
       "       x⋅⎜─ - 5⎟    \n",
       "         ⎝2    ⎠    \n",
       "V(x) = ───────── + 2\n",
       "           4        "
      ]
     },
     "metadata": {},
     "output_type": "display_data"
    }
   ],
   "source": [
    "x=sp.symbols('x')\n",
    "tau=sp.Function('τ')\n",
    "V=sp.Function('V')\n",
    "\n",
    "d1=sp.symbols('d1')\n",
    "V1=sp.symbols('V1')\n",
    "d2=sp.symbols('d2')\n",
    "L=sp.symbols('L')\n",
    "mu=sp.symbols('µ')\n",
    "Po=sp.symbols('Po')\n",
    "Pl=sp.symbols('Pl')\n",
    "\n",
    "d1i=5\n",
    "V1i=0\n",
    "d2i=2\n",
    "Li=2\n",
    "mui=2\n",
    "Poi=3\n",
    "Pli=2\n",
    "\n",
    "print(\"Shear stress differential equation\")\n",
    "diffeqTau=Eq(tau(x).diff(x),(Pl-Po)/L)\n",
    "display(diffeqTau)\n",
    "\n",
    "#genSolTau: general solution for tau\n",
    "genSolTau=dsolve(diffeqTau,tau(x))\n",
    "print(\"General solution for shear stress:\")\n",
    "display(genSolTau)\n",
    "\n",
    "#parSolTau: particular solution for tau\n",
    "parSolTau=dsolve(diffeqTau, ics={tau(d1i): 0, diff(tau(x),x).subs(x,0): 0})\n",
    "print(\"Particular solution for shear stress using given boundary condition:\")\n",
    "display(parSolTau)\n",
    "\n",
    "parSolTauWithGivens = parSolTau.subs(Pl,Pli)\n",
    "parSolTauWithGivens = parSolTauWithGivens.subs(Po,Poi)\n",
    "parSolTauWithGivens = parSolTauWithGivens.subs(L,Li)\n",
    "print(\"Shear stress specifically for the given pressures and length:\")\n",
    "display(parSolTauWithGivens)\n",
    "\n",
    "\n",
    "\n",
    "#rhsVdiffeq: right hand side of the diffeq for velocity (in Newton's Law of Viscosity)\n",
    "rhsVdiffeq = (parSolTau.rhs)/(-mu)\n",
    "diffeqV=Eq(V(x).diff(x),rhsVdiffeq)\n",
    "print(\"\\n\\nVelocity differential equation, using particular solution for shear stress and Newton's Law of Viscosity:\")\n",
    "display(diffeqV)\n",
    "\n",
    "#genSolV: general solution for V\n",
    "genSolV=dsolve(diffeqV,V(x))\n",
    "print(\"General solution for velocity profile:\")\n",
    "display(genSolV)\n",
    "\n",
    "#parSolV: particular solution for V\n",
    "parSolV=dsolve(diffeqV, ics={V(d2i): V1i, diff(V(x),x).subs(x,d2i): V1i})\n",
    "print(\"Particular solution for velocity profile:\")\n",
    "display(parSolV)\n",
    "\n",
    "parSolVWithGivens = parSolV.subs(Pl,Pli)\n",
    "parSolVWithGivens = parSolVWithGivens.subs(Po,Poi)\n",
    "parSolVWithGivens = parSolVWithGivens.subs(L,Li)\n",
    "parSolVWithGivens = parSolVWithGivens.subs(mu,mui)\n",
    "print(\"Velocity profile specifically for the given pressures, length, and viscosity:\")\n",
    "display(parSolVWithGivens)\n",
    "\n"
   ]
  },
  {
   "cell_type": "code",
   "execution_count": null,
   "id": "43cedbef",
   "metadata": {},
   "outputs": [],
   "source": [
    "\n",
    "\n"
   ]
  },
  {
   "cell_type": "code",
   "execution_count": 17,
   "id": "1e5f466d",
   "metadata": {},
   "outputs": [
    {
     "name": "stdout",
     "output_type": "stream",
     "text": [
      "5\n"
     ]
    }
   ],
   "source": [
    "#variable names: 'in' stands for input \n",
    "def main():\n",
    "    if g=='r' and bcs=='1':\n",
    "        d1in=5\n",
    "        V1in=0\n",
    "        d2in=2\n",
    "        Lin=2\n",
    "        muin=2\n",
    "        Poin=3\n",
    "        P1in=2\n",
    "        rWithTauBC(d1in,V1in,d2in,Lin,muin,Poin,Plin)\n",
    "#main()\n",
    "\n",
    "#rwithTauBC: rectangular problem with tau=0 BC\n",
    "\n",
    "#parameter names: now 'i' stands for input (to keep names different from that of the variables)\n",
    "def rWithTauBC(d1i,V1i,d2i,Li,mui,Poi,Pli):\n",
    "        \n"
   ]
  },
  {
   "cell_type": "code",
   "execution_count": null,
   "id": "b0123de1",
   "metadata": {},
   "outputs": [],
   "source": []
  },
  {
   "cell_type": "code",
   "execution_count": null,
   "id": "c800f181",
   "metadata": {},
   "outputs": [],
   "source": []
  },
  {
   "cell_type": "code",
   "execution_count": null,
   "id": "ae8ed513",
   "metadata": {},
   "outputs": [],
   "source": []
  }
 ],
 "metadata": {
  "kernelspec": {
   "display_name": "Python 3",
   "language": "python",
   "name": "python3"
  },
  "language_info": {
   "codemirror_mode": {
    "name": "ipython",
    "version": 3
   },
   "file_extension": ".py",
   "mimetype": "text/x-python",
   "name": "python",
   "nbconvert_exporter": "python",
   "pygments_lexer": "ipython3",
   "version": "3.8.8"
  }
 },
 "nbformat": 4,
 "nbformat_minor": 5
}
